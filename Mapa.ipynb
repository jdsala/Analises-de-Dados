{
 "cells": [
  {
   "cell_type": "code",
   "execution_count": 18,
   "id": "1ee9a4ff",
   "metadata": {},
   "outputs": [
    {
     "name": "stdout",
     "output_type": "stream",
     "text": [
      "Requirement already satisfied: pandas in c:\\users\\jorge.sala\\anaconda3\\lib\\site-packages (1.3.4)\n",
      "Requirement already satisfied: python-dateutil>=2.7.3 in c:\\users\\jorge.sala\\anaconda3\\lib\\site-packages (from pandas) (2.8.2)\n",
      "Requirement already satisfied: pytz>=2017.3 in c:\\users\\jorge.sala\\anaconda3\\lib\\site-packages (from pandas) (2021.3)\n",
      "Requirement already satisfied: numpy>=1.17.3 in c:\\users\\jorge.sala\\anaconda3\\lib\\site-packages (from pandas) (1.20.3)\n",
      "Requirement already satisfied: six>=1.5 in c:\\users\\jorge.sala\\anaconda3\\lib\\site-packages (from python-dateutil>=2.7.3->pandas) (1.16.0)\n"
     ]
    }
   ],
   "source": [
    "!pip install pandas"
   ]
  },
  {
   "cell_type": "code",
   "execution_count": 4,
   "id": "ca9713a5",
   "metadata": {},
   "outputs": [],
   "source": [
    "import pandas as pd"
   ]
  },
  {
   "cell_type": "markdown",
   "id": "b80b8eb3",
   "metadata": {},
   "source": [
    "# Carregar e Ler o arquivo CSV"
   ]
  },
  {
   "cell_type": "code",
   "execution_count": 5,
   "id": "8fd2f54e",
   "metadata": {},
   "outputs": [
    {
     "data": {
      "text/html": [
       "<div>\n",
       "<style scoped>\n",
       "    .dataframe tbody tr th:only-of-type {\n",
       "        vertical-align: middle;\n",
       "    }\n",
       "\n",
       "    .dataframe tbody tr th {\n",
       "        vertical-align: top;\n",
       "    }\n",
       "\n",
       "    .dataframe thead th {\n",
       "        text-align: right;\n",
       "    }\n",
       "</style>\n",
       "<table border=\"1\" class=\"dataframe\">\n",
       "  <thead>\n",
       "    <tr style=\"text-align: right;\">\n",
       "      <th></th>\n",
       "      <th>date</th>\n",
       "      <th>home_team</th>\n",
       "      <th>away_team</th>\n",
       "      <th>home_score</th>\n",
       "      <th>away_score</th>\n",
       "      <th>tournament</th>\n",
       "      <th>city</th>\n",
       "      <th>country</th>\n",
       "      <th>neutral</th>\n",
       "    </tr>\n",
       "  </thead>\n",
       "  <tbody>\n",
       "    <tr>\n",
       "      <th>0</th>\n",
       "      <td>1956-09-23</td>\n",
       "      <td>Germany</td>\n",
       "      <td>Netherlands</td>\n",
       "      <td>2</td>\n",
       "      <td>1</td>\n",
       "      <td>Friendly</td>\n",
       "      <td>Essen</td>\n",
       "      <td>Germany</td>\n",
       "      <td>False</td>\n",
       "    </tr>\n",
       "    <tr>\n",
       "      <th>1</th>\n",
       "      <td>1957-07-28</td>\n",
       "      <td>Germany</td>\n",
       "      <td>England</td>\n",
       "      <td>1</td>\n",
       "      <td>1</td>\n",
       "      <td>Friendly</td>\n",
       "      <td>Stuttgart</td>\n",
       "      <td>Germany</td>\n",
       "      <td>False</td>\n",
       "    </tr>\n",
       "    <tr>\n",
       "      <th>2</th>\n",
       "      <td>1957-10-13</td>\n",
       "      <td>Germany</td>\n",
       "      <td>Netherlands</td>\n",
       "      <td>2</td>\n",
       "      <td>0</td>\n",
       "      <td>Friendly</td>\n",
       "      <td>Berlin</td>\n",
       "      <td>Germany</td>\n",
       "      <td>False</td>\n",
       "    </tr>\n",
       "    <tr>\n",
       "      <th>3</th>\n",
       "      <td>1957-11-03</td>\n",
       "      <td>Netherlands</td>\n",
       "      <td>Austria</td>\n",
       "      <td>8</td>\n",
       "      <td>1</td>\n",
       "      <td>European Championship</td>\n",
       "      <td>Berlin</td>\n",
       "      <td>Germany</td>\n",
       "      <td>True</td>\n",
       "    </tr>\n",
       "    <tr>\n",
       "      <th>4</th>\n",
       "      <td>1957-11-03</td>\n",
       "      <td>Germany</td>\n",
       "      <td>England</td>\n",
       "      <td>0</td>\n",
       "      <td>4</td>\n",
       "      <td>European Championship</td>\n",
       "      <td>Berlin</td>\n",
       "      <td>Germany</td>\n",
       "      <td>False</td>\n",
       "    </tr>\n",
       "    <tr>\n",
       "      <th>...</th>\n",
       "      <td>...</td>\n",
       "      <td>...</td>\n",
       "      <td>...</td>\n",
       "      <td>...</td>\n",
       "      <td>...</td>\n",
       "      <td>...</td>\n",
       "      <td>...</td>\n",
       "      <td>...</td>\n",
       "      <td>...</td>\n",
       "    </tr>\n",
       "    <tr>\n",
       "      <th>9677</th>\n",
       "      <td>2024-08-04</td>\n",
       "      <td>Thailand</td>\n",
       "      <td>Taiwan</td>\n",
       "      <td>2</td>\n",
       "      <td>1</td>\n",
       "      <td>Friendly</td>\n",
       "      <td>Bangkok</td>\n",
       "      <td>Thailand</td>\n",
       "      <td>False</td>\n",
       "    </tr>\n",
       "    <tr>\n",
       "      <th>9678</th>\n",
       "      <td>2024-08-06</td>\n",
       "      <td>United States</td>\n",
       "      <td>Germany</td>\n",
       "      <td>1</td>\n",
       "      <td>0</td>\n",
       "      <td>Olympic Games</td>\n",
       "      <td>Décines-Charpieu</td>\n",
       "      <td>France</td>\n",
       "      <td>True</td>\n",
       "    </tr>\n",
       "    <tr>\n",
       "      <th>9679</th>\n",
       "      <td>2024-08-06</td>\n",
       "      <td>Brazil</td>\n",
       "      <td>Spain</td>\n",
       "      <td>4</td>\n",
       "      <td>2</td>\n",
       "      <td>Olympic Games</td>\n",
       "      <td>Marseille</td>\n",
       "      <td>France</td>\n",
       "      <td>True</td>\n",
       "    </tr>\n",
       "    <tr>\n",
       "      <th>9680</th>\n",
       "      <td>2024-08-09</td>\n",
       "      <td>Spain</td>\n",
       "      <td>Germany</td>\n",
       "      <td>0</td>\n",
       "      <td>1</td>\n",
       "      <td>Olympic Games</td>\n",
       "      <td>Décines-Charpieu</td>\n",
       "      <td>France</td>\n",
       "      <td>True</td>\n",
       "    </tr>\n",
       "    <tr>\n",
       "      <th>9681</th>\n",
       "      <td>2024-08-10</td>\n",
       "      <td>Brazil</td>\n",
       "      <td>United States</td>\n",
       "      <td>0</td>\n",
       "      <td>1</td>\n",
       "      <td>Olympic Games</td>\n",
       "      <td>Paris</td>\n",
       "      <td>France</td>\n",
       "      <td>True</td>\n",
       "    </tr>\n",
       "  </tbody>\n",
       "</table>\n",
       "<p>9682 rows × 9 columns</p>\n",
       "</div>"
      ],
      "text/plain": [
       "            date      home_team      away_team  home_score  away_score  \\\n",
       "0     1956-09-23        Germany    Netherlands           2           1   \n",
       "1     1957-07-28        Germany        England           1           1   \n",
       "2     1957-10-13        Germany    Netherlands           2           0   \n",
       "3     1957-11-03    Netherlands        Austria           8           1   \n",
       "4     1957-11-03        Germany        England           0           4   \n",
       "...          ...            ...            ...         ...         ...   \n",
       "9677  2024-08-04       Thailand         Taiwan           2           1   \n",
       "9678  2024-08-06  United States        Germany           1           0   \n",
       "9679  2024-08-06         Brazil          Spain           4           2   \n",
       "9680  2024-08-09          Spain        Germany           0           1   \n",
       "9681  2024-08-10         Brazil  United States           0           1   \n",
       "\n",
       "                 tournament              city   country  neutral  \n",
       "0                  Friendly             Essen   Germany    False  \n",
       "1                  Friendly         Stuttgart   Germany    False  \n",
       "2                  Friendly            Berlin   Germany    False  \n",
       "3     European Championship            Berlin   Germany     True  \n",
       "4     European Championship            Berlin   Germany    False  \n",
       "...                     ...               ...       ...      ...  \n",
       "9677               Friendly           Bangkok  Thailand    False  \n",
       "9678          Olympic Games  Décines-Charpieu    France     True  \n",
       "9679          Olympic Games         Marseille    France     True  \n",
       "9680          Olympic Games  Décines-Charpieu    France     True  \n",
       "9681          Olympic Games             Paris    France     True  \n",
       "\n",
       "[9682 rows x 9 columns]"
      ]
     },
     "execution_count": 5,
     "metadata": {},
     "output_type": "execute_result"
    }
   ],
   "source": [
    "df = pd.read_csv('results.csv')\n",
    "df"
   ]
  },
  {
   "cell_type": "markdown",
   "id": "84141be9",
   "metadata": {},
   "source": [
    "# 1. Quais são os jogos que aconteceram na Itália em 2015 na cidade de La Spezia? Ocorreu em que data, torneio e resultado?"
   ]
  },
  {
   "cell_type": "code",
   "execution_count": 6,
   "id": "3e16ee78",
   "metadata": {},
   "outputs": [
    {
     "data": {
      "text/html": [
       "<div>\n",
       "<style scoped>\n",
       "    .dataframe tbody tr th:only-of-type {\n",
       "        vertical-align: middle;\n",
       "    }\n",
       "\n",
       "    .dataframe tbody tr th {\n",
       "        vertical-align: top;\n",
       "    }\n",
       "\n",
       "    .dataframe thead th {\n",
       "        text-align: right;\n",
       "    }\n",
       "</style>\n",
       "<table border=\"1\" class=\"dataframe\">\n",
       "  <thead>\n",
       "    <tr style=\"text-align: right;\">\n",
       "      <th></th>\n",
       "      <th>date</th>\n",
       "      <th>home_team</th>\n",
       "      <th>away_team</th>\n",
       "      <th>home_score</th>\n",
       "      <th>away_score</th>\n",
       "      <th>tournament</th>\n",
       "      <th>city</th>\n",
       "      <th>country</th>\n",
       "      <th>neutral</th>\n",
       "    </tr>\n",
       "  </thead>\n",
       "  <tbody>\n",
       "    <tr>\n",
       "      <th>5489</th>\n",
       "      <td>2015-09-18</td>\n",
       "      <td>Italy</td>\n",
       "      <td>Georgia</td>\n",
       "      <td>6</td>\n",
       "      <td>1</td>\n",
       "      <td>UEFA Euro qualification</td>\n",
       "      <td>La Spezia</td>\n",
       "      <td>Italy</td>\n",
       "      <td>False</td>\n",
       "    </tr>\n",
       "  </tbody>\n",
       "</table>\n",
       "</div>"
      ],
      "text/plain": [
       "            date home_team away_team  home_score  away_score  \\\n",
       "5489  2015-09-18     Italy   Georgia           6           1   \n",
       "\n",
       "                   tournament       city country  neutral  \n",
       "5489  UEFA Euro qualification  La Spezia   Italy    False  "
      ]
     },
     "execution_count": 6,
     "metadata": {},
     "output_type": "execute_result"
    }
   ],
   "source": [
    "italy_2015_laspezia = df[(df['country'] == 'Italy') & (df['city'] == 'La Spezia') & (df['date'].str.contains('2015'))]\n",
    "italy_2015_laspezia"
   ]
  },
  {
   "cell_type": "markdown",
   "id": "2439039c",
   "metadata": {},
   "source": [
    "# 2. Qual foi a quantidade de jogos realizados no Brasil? E qual foi o número de cidades que receberam estes jogos?"
   ]
  },
  {
   "cell_type": "code",
   "execution_count": 7,
   "id": "47b5ff42",
   "metadata": {},
   "outputs": [
    {
     "data": {
      "text/plain": [
       "152"
      ]
     },
     "execution_count": 7,
     "metadata": {},
     "output_type": "execute_result"
    }
   ],
   "source": [
    "brasil_jogos = df[df['country'] == 'Brazil']\n",
    "quantidade_jogos_brasil = len(brasil_jogos)\n",
    "quantidade_jogos_brasil"
   ]
  },
  {
   "cell_type": "code",
   "execution_count": 9,
   "id": "65ebfe04",
   "metadata": {},
   "outputs": [
    {
     "data": {
      "text/plain": [
       "17"
      ]
     },
     "execution_count": 9,
     "metadata": {},
     "output_type": "execute_result"
    }
   ],
   "source": [
    "cidades_brasil = brasil_jogos['city'].nunique()\n",
    "cidades_brasil"
   ]
  },
  {
   "cell_type": "markdown",
   "id": "50a1d08d",
   "metadata": {},
   "source": [
    "# 3. Jogando em casa, quantos jogos o Brasil acumulou? Quantos gols em média o Brasil marcou por jogos?"
   ]
  },
  {
   "cell_type": "code",
   "execution_count": 13,
   "id": "d25c7abc",
   "metadata": {},
   "outputs": [
    {
     "data": {
      "text/plain": [
       "171"
      ]
     },
     "execution_count": 13,
     "metadata": {},
     "output_type": "execute_result"
    }
   ],
   "source": [
    "brasil_casa = df[df['home_team'] == 'Brazil']\n",
    "qtd_jogos_br_casa = len(brasil_casa)\n",
    "qtd_jogos_br_casa"
   ]
  },
  {
   "cell_type": "code",
   "execution_count": 18,
   "id": "8d661f76",
   "metadata": {},
   "outputs": [
    {
     "data": {
      "text/plain": [
       "3.47953216374269"
      ]
     },
     "execution_count": 18,
     "metadata": {},
     "output_type": "execute_result"
    }
   ],
   "source": [
    "gols_br_casa = brasil_casa['home_score'].mean()\n",
    "gols_br_casa"
   ]
  },
  {
   "cell_type": "markdown",
   "id": "a8986aa5",
   "metadata": {},
   "source": [
    "# 4. Qual foi a quantidade de jogos realizados na Albania, United States e Zambia, respectivamente? Especificamente na Albania, em quantas cidades os jogos foram realizados e as respectivas cidades?"
   ]
  },
  {
   "cell_type": "code",
   "execution_count": 20,
   "id": "507e1038",
   "metadata": {},
   "outputs": [
    {
     "data": {
      "text/plain": [
       "37"
      ]
     },
     "execution_count": 20,
     "metadata": {},
     "output_type": "execute_result"
    }
   ],
   "source": [
    "albania_jogos = df[df['country'] == 'Albania']\n",
    "albania_jogos_total = len(albania_jogos)\n",
    "albania_jogos_total"
   ]
  },
  {
   "cell_type": "code",
   "execution_count": 22,
   "id": "a296bd4c",
   "metadata": {},
   "outputs": [
    {
     "data": {
      "text/plain": [
       "474"
      ]
     },
     "execution_count": 22,
     "metadata": {},
     "output_type": "execute_result"
    }
   ],
   "source": [
    "us_jogos = df[df['country'] == 'United States']\n",
    "us_jogos_total = len(us_jogos)\n",
    "us_jogos_total"
   ]
  },
  {
   "cell_type": "code",
   "execution_count": 18,
   "id": "81cf11cd",
   "metadata": {},
   "outputs": [
    {
     "data": {
      "text/plain": [
       "22"
      ]
     },
     "execution_count": 18,
     "metadata": {},
     "output_type": "execute_result"
    }
   ],
   "source": [
    "zambia_jogos = df[df['country'] == 'Zambia']\n",
    "zambia_jogos_total = len(zambia_jogos)\n",
    "zambia_jogos_total"
   ]
  },
  {
   "cell_type": "markdown",
   "id": "c237d240",
   "metadata": {},
   "source": [
    "# Considerando os paises em conjunto, e obtendo a totalidade dos tres paises"
   ]
  },
  {
   "cell_type": "code",
   "execution_count": 16,
   "id": "fadd40c9",
   "metadata": {},
   "outputs": [
    {
     "data": {
      "text/plain": [
       "533"
      ]
     },
     "execution_count": 16,
     "metadata": {},
     "output_type": "execute_result"
    }
   ],
   "source": [
    "contagem_quantidade_jogos = df[df['country'].isin(['Albania', 'United States', 'Zambia'])]\n",
    "quantidade_jogos_pais = len(contagem_quantidade_jogos)\n",
    "quantidade_jogos_pais"
   ]
  },
  {
   "cell_type": "code",
   "execution_count": 25,
   "id": "1511366c",
   "metadata": {},
   "outputs": [
    {
     "data": {
      "text/plain": [
       "7"
      ]
     },
     "execution_count": 25,
     "metadata": {},
     "output_type": "execute_result"
    }
   ],
   "source": [
    "albania_cidades = albania_jogos['city'].nunique()\n",
    "albania_cidades"
   ]
  },
  {
   "cell_type": "code",
   "execution_count": 26,
   "id": "5347f8a4",
   "metadata": {},
   "outputs": [
    {
     "data": {
      "text/plain": [
       "array([\"Ta' Qali\", 'Tirana', 'Durrës', 'Fier', 'Durres', 'Elbasan',\n",
       "       'Shkodër'], dtype=object)"
      ]
     },
     "execution_count": 26,
     "metadata": {},
     "output_type": "execute_result"
    }
   ],
   "source": [
    "albania_cidades_lista = albania_jogos['city'].unique()\n",
    "albania_cidades_lista"
   ]
  },
  {
   "cell_type": "markdown",
   "id": "fdf5fb5e",
   "metadata": {},
   "source": [
    "# 5. Considerando o ano de 2016, quais cidades sediaram jogos no Brasil? E quantos jogos cada cidade sediou?"
   ]
  },
  {
   "cell_type": "code",
   "execution_count": 27,
   "id": "925efb95",
   "metadata": {},
   "outputs": [
    {
     "data": {
      "text/html": [
       "<div>\n",
       "<style scoped>\n",
       "    .dataframe tbody tr th:only-of-type {\n",
       "        vertical-align: middle;\n",
       "    }\n",
       "\n",
       "    .dataframe tbody tr th {\n",
       "        vertical-align: top;\n",
       "    }\n",
       "\n",
       "    .dataframe thead th {\n",
       "        text-align: right;\n",
       "    }\n",
       "</style>\n",
       "<table border=\"1\" class=\"dataframe\">\n",
       "  <thead>\n",
       "    <tr style=\"text-align: right;\">\n",
       "      <th></th>\n",
       "      <th>date</th>\n",
       "      <th>home_team</th>\n",
       "      <th>away_team</th>\n",
       "      <th>home_score</th>\n",
       "      <th>away_score</th>\n",
       "      <th>tournament</th>\n",
       "      <th>city</th>\n",
       "      <th>country</th>\n",
       "      <th>neutral</th>\n",
       "    </tr>\n",
       "  </thead>\n",
       "  <tbody>\n",
       "    <tr>\n",
       "      <th>5811</th>\n",
       "      <td>2016-07-23</td>\n",
       "      <td>Brazil</td>\n",
       "      <td>Australia</td>\n",
       "      <td>3</td>\n",
       "      <td>1</td>\n",
       "      <td>Friendly</td>\n",
       "      <td>Fortaleza</td>\n",
       "      <td>Brazil</td>\n",
       "      <td>False</td>\n",
       "    </tr>\n",
       "    <tr>\n",
       "      <th>5824</th>\n",
       "      <td>2016-08-03</td>\n",
       "      <td>Sweden</td>\n",
       "      <td>South Africa</td>\n",
       "      <td>1</td>\n",
       "      <td>0</td>\n",
       "      <td>Olympic Games</td>\n",
       "      <td>Rio de Janeiro</td>\n",
       "      <td>Brazil</td>\n",
       "      <td>True</td>\n",
       "    </tr>\n",
       "    <tr>\n",
       "      <th>5825</th>\n",
       "      <td>2016-08-03</td>\n",
       "      <td>Brazil</td>\n",
       "      <td>China PR</td>\n",
       "      <td>3</td>\n",
       "      <td>0</td>\n",
       "      <td>Olympic Games</td>\n",
       "      <td>Rio de Janeiro</td>\n",
       "      <td>Brazil</td>\n",
       "      <td>False</td>\n",
       "    </tr>\n",
       "    <tr>\n",
       "      <th>5826</th>\n",
       "      <td>2016-08-03</td>\n",
       "      <td>Canada</td>\n",
       "      <td>Australia</td>\n",
       "      <td>2</td>\n",
       "      <td>0</td>\n",
       "      <td>Olympic Games</td>\n",
       "      <td>São Paulo</td>\n",
       "      <td>Brazil</td>\n",
       "      <td>True</td>\n",
       "    </tr>\n",
       "    <tr>\n",
       "      <th>5827</th>\n",
       "      <td>2016-08-03</td>\n",
       "      <td>Zimbabwe</td>\n",
       "      <td>Germany</td>\n",
       "      <td>1</td>\n",
       "      <td>6</td>\n",
       "      <td>Olympic Games</td>\n",
       "      <td>São Paulo</td>\n",
       "      <td>Brazil</td>\n",
       "      <td>True</td>\n",
       "    </tr>\n",
       "    <tr>\n",
       "      <th>5828</th>\n",
       "      <td>2016-08-03</td>\n",
       "      <td>United States</td>\n",
       "      <td>New Zealand</td>\n",
       "      <td>2</td>\n",
       "      <td>0</td>\n",
       "      <td>Olympic Games</td>\n",
       "      <td>Belo Horizonte</td>\n",
       "      <td>Brazil</td>\n",
       "      <td>True</td>\n",
       "    </tr>\n",
       "    <tr>\n",
       "      <th>5829</th>\n",
       "      <td>2016-08-03</td>\n",
       "      <td>France</td>\n",
       "      <td>Colombia</td>\n",
       "      <td>4</td>\n",
       "      <td>0</td>\n",
       "      <td>Olympic Games</td>\n",
       "      <td>Belo Horizonte</td>\n",
       "      <td>Brazil</td>\n",
       "      <td>True</td>\n",
       "    </tr>\n",
       "    <tr>\n",
       "      <th>5835</th>\n",
       "      <td>2016-08-06</td>\n",
       "      <td>South Africa</td>\n",
       "      <td>China PR</td>\n",
       "      <td>0</td>\n",
       "      <td>2</td>\n",
       "      <td>Olympic Games</td>\n",
       "      <td>Rio de Janeiro</td>\n",
       "      <td>Brazil</td>\n",
       "      <td>True</td>\n",
       "    </tr>\n",
       "    <tr>\n",
       "      <th>5836</th>\n",
       "      <td>2016-08-06</td>\n",
       "      <td>Brazil</td>\n",
       "      <td>Sweden</td>\n",
       "      <td>5</td>\n",
       "      <td>1</td>\n",
       "      <td>Olympic Games</td>\n",
       "      <td>Rio de Janeiro</td>\n",
       "      <td>Brazil</td>\n",
       "      <td>False</td>\n",
       "    </tr>\n",
       "    <tr>\n",
       "      <th>5837</th>\n",
       "      <td>2016-08-06</td>\n",
       "      <td>Canada</td>\n",
       "      <td>Zimbabwe</td>\n",
       "      <td>3</td>\n",
       "      <td>1</td>\n",
       "      <td>Olympic Games</td>\n",
       "      <td>São Paulo</td>\n",
       "      <td>Brazil</td>\n",
       "      <td>True</td>\n",
       "    </tr>\n",
       "    <tr>\n",
       "      <th>5838</th>\n",
       "      <td>2016-08-06</td>\n",
       "      <td>Germany</td>\n",
       "      <td>Australia</td>\n",
       "      <td>2</td>\n",
       "      <td>2</td>\n",
       "      <td>Olympic Games</td>\n",
       "      <td>São Paulo</td>\n",
       "      <td>Brazil</td>\n",
       "      <td>True</td>\n",
       "    </tr>\n",
       "    <tr>\n",
       "      <th>5839</th>\n",
       "      <td>2016-08-06</td>\n",
       "      <td>United States</td>\n",
       "      <td>France</td>\n",
       "      <td>1</td>\n",
       "      <td>0</td>\n",
       "      <td>Olympic Games</td>\n",
       "      <td>Belo Horizonte</td>\n",
       "      <td>Brazil</td>\n",
       "      <td>True</td>\n",
       "    </tr>\n",
       "    <tr>\n",
       "      <th>5840</th>\n",
       "      <td>2016-08-06</td>\n",
       "      <td>Colombia</td>\n",
       "      <td>New Zealand</td>\n",
       "      <td>0</td>\n",
       "      <td>1</td>\n",
       "      <td>Olympic Games</td>\n",
       "      <td>Belo Horizonte</td>\n",
       "      <td>Brazil</td>\n",
       "      <td>True</td>\n",
       "    </tr>\n",
       "    <tr>\n",
       "      <th>5843</th>\n",
       "      <td>2016-08-09</td>\n",
       "      <td>Brazil</td>\n",
       "      <td>South Africa</td>\n",
       "      <td>0</td>\n",
       "      <td>0</td>\n",
       "      <td>Olympic Games</td>\n",
       "      <td>Manaus</td>\n",
       "      <td>Brazil</td>\n",
       "      <td>False</td>\n",
       "    </tr>\n",
       "    <tr>\n",
       "      <th>5844</th>\n",
       "      <td>2016-08-09</td>\n",
       "      <td>China PR</td>\n",
       "      <td>Sweden</td>\n",
       "      <td>0</td>\n",
       "      <td>0</td>\n",
       "      <td>Olympic Games</td>\n",
       "      <td>Brasília</td>\n",
       "      <td>Brazil</td>\n",
       "      <td>True</td>\n",
       "    </tr>\n",
       "    <tr>\n",
       "      <th>5845</th>\n",
       "      <td>2016-08-09</td>\n",
       "      <td>Germany</td>\n",
       "      <td>Canada</td>\n",
       "      <td>1</td>\n",
       "      <td>2</td>\n",
       "      <td>Olympic Games</td>\n",
       "      <td>Brasília</td>\n",
       "      <td>Brazil</td>\n",
       "      <td>True</td>\n",
       "    </tr>\n",
       "    <tr>\n",
       "      <th>5846</th>\n",
       "      <td>2016-08-09</td>\n",
       "      <td>Australia</td>\n",
       "      <td>Zimbabwe</td>\n",
       "      <td>6</td>\n",
       "      <td>1</td>\n",
       "      <td>Olympic Games</td>\n",
       "      <td>Salvador</td>\n",
       "      <td>Brazil</td>\n",
       "      <td>True</td>\n",
       "    </tr>\n",
       "    <tr>\n",
       "      <th>5847</th>\n",
       "      <td>2016-08-09</td>\n",
       "      <td>Colombia</td>\n",
       "      <td>United States</td>\n",
       "      <td>2</td>\n",
       "      <td>2</td>\n",
       "      <td>Olympic Games</td>\n",
       "      <td>Manaus</td>\n",
       "      <td>Brazil</td>\n",
       "      <td>True</td>\n",
       "    </tr>\n",
       "    <tr>\n",
       "      <th>5848</th>\n",
       "      <td>2016-08-09</td>\n",
       "      <td>New Zealand</td>\n",
       "      <td>France</td>\n",
       "      <td>0</td>\n",
       "      <td>3</td>\n",
       "      <td>Olympic Games</td>\n",
       "      <td>Salvador</td>\n",
       "      <td>Brazil</td>\n",
       "      <td>True</td>\n",
       "    </tr>\n",
       "    <tr>\n",
       "      <th>5849</th>\n",
       "      <td>2016-08-12</td>\n",
       "      <td>United States</td>\n",
       "      <td>Sweden</td>\n",
       "      <td>1</td>\n",
       "      <td>1</td>\n",
       "      <td>Olympic Games</td>\n",
       "      <td>Brasília</td>\n",
       "      <td>Brazil</td>\n",
       "      <td>True</td>\n",
       "    </tr>\n",
       "    <tr>\n",
       "      <th>5850</th>\n",
       "      <td>2016-08-12</td>\n",
       "      <td>China PR</td>\n",
       "      <td>Germany</td>\n",
       "      <td>0</td>\n",
       "      <td>1</td>\n",
       "      <td>Olympic Games</td>\n",
       "      <td>Salvador</td>\n",
       "      <td>Brazil</td>\n",
       "      <td>True</td>\n",
       "    </tr>\n",
       "    <tr>\n",
       "      <th>5851</th>\n",
       "      <td>2016-08-12</td>\n",
       "      <td>Canada</td>\n",
       "      <td>France</td>\n",
       "      <td>1</td>\n",
       "      <td>0</td>\n",
       "      <td>Olympic Games</td>\n",
       "      <td>São Paulo</td>\n",
       "      <td>Brazil</td>\n",
       "      <td>True</td>\n",
       "    </tr>\n",
       "    <tr>\n",
       "      <th>5852</th>\n",
       "      <td>2016-08-12</td>\n",
       "      <td>Brazil</td>\n",
       "      <td>Australia</td>\n",
       "      <td>0</td>\n",
       "      <td>0</td>\n",
       "      <td>Olympic Games</td>\n",
       "      <td>Belo Horizonte</td>\n",
       "      <td>Brazil</td>\n",
       "      <td>False</td>\n",
       "    </tr>\n",
       "    <tr>\n",
       "      <th>5853</th>\n",
       "      <td>2016-08-16</td>\n",
       "      <td>Brazil</td>\n",
       "      <td>Sweden</td>\n",
       "      <td>0</td>\n",
       "      <td>0</td>\n",
       "      <td>Olympic Games</td>\n",
       "      <td>Rio de Janeiro</td>\n",
       "      <td>Brazil</td>\n",
       "      <td>False</td>\n",
       "    </tr>\n",
       "    <tr>\n",
       "      <th>5854</th>\n",
       "      <td>2016-08-16</td>\n",
       "      <td>Canada</td>\n",
       "      <td>Germany</td>\n",
       "      <td>0</td>\n",
       "      <td>2</td>\n",
       "      <td>Olympic Games</td>\n",
       "      <td>Belo Horizonte</td>\n",
       "      <td>Brazil</td>\n",
       "      <td>True</td>\n",
       "    </tr>\n",
       "    <tr>\n",
       "      <th>5855</th>\n",
       "      <td>2016-08-19</td>\n",
       "      <td>Brazil</td>\n",
       "      <td>Canada</td>\n",
       "      <td>1</td>\n",
       "      <td>2</td>\n",
       "      <td>Olympic Games</td>\n",
       "      <td>São Paulo</td>\n",
       "      <td>Brazil</td>\n",
       "      <td>False</td>\n",
       "    </tr>\n",
       "    <tr>\n",
       "      <th>5856</th>\n",
       "      <td>2016-08-19</td>\n",
       "      <td>Sweden</td>\n",
       "      <td>Germany</td>\n",
       "      <td>1</td>\n",
       "      <td>2</td>\n",
       "      <td>Olympic Games</td>\n",
       "      <td>Rio de Janeiro</td>\n",
       "      <td>Brazil</td>\n",
       "      <td>True</td>\n",
       "    </tr>\n",
       "    <tr>\n",
       "      <th>5945</th>\n",
       "      <td>2016-12-07</td>\n",
       "      <td>Italy</td>\n",
       "      <td>Russia</td>\n",
       "      <td>3</td>\n",
       "      <td>0</td>\n",
       "      <td>International Tournament</td>\n",
       "      <td>Manaus</td>\n",
       "      <td>Brazil</td>\n",
       "      <td>True</td>\n",
       "    </tr>\n",
       "    <tr>\n",
       "      <th>5946</th>\n",
       "      <td>2016-12-07</td>\n",
       "      <td>Brazil</td>\n",
       "      <td>Costa Rica</td>\n",
       "      <td>6</td>\n",
       "      <td>0</td>\n",
       "      <td>International Tournament</td>\n",
       "      <td>Manaus</td>\n",
       "      <td>Brazil</td>\n",
       "      <td>False</td>\n",
       "    </tr>\n",
       "    <tr>\n",
       "      <th>5947</th>\n",
       "      <td>2016-12-11</td>\n",
       "      <td>Italy</td>\n",
       "      <td>Costa Rica</td>\n",
       "      <td>3</td>\n",
       "      <td>0</td>\n",
       "      <td>International Tournament</td>\n",
       "      <td>Manaus</td>\n",
       "      <td>Brazil</td>\n",
       "      <td>True</td>\n",
       "    </tr>\n",
       "    <tr>\n",
       "      <th>5948</th>\n",
       "      <td>2016-12-11</td>\n",
       "      <td>Brazil</td>\n",
       "      <td>Russia</td>\n",
       "      <td>4</td>\n",
       "      <td>0</td>\n",
       "      <td>International Tournament</td>\n",
       "      <td>Manaus</td>\n",
       "      <td>Brazil</td>\n",
       "      <td>False</td>\n",
       "    </tr>\n",
       "    <tr>\n",
       "      <th>5949</th>\n",
       "      <td>2016-12-14</td>\n",
       "      <td>Costa Rica</td>\n",
       "      <td>Russia</td>\n",
       "      <td>1</td>\n",
       "      <td>3</td>\n",
       "      <td>International Tournament</td>\n",
       "      <td>Manaus</td>\n",
       "      <td>Brazil</td>\n",
       "      <td>True</td>\n",
       "    </tr>\n",
       "    <tr>\n",
       "      <th>5950</th>\n",
       "      <td>2016-12-14</td>\n",
       "      <td>Brazil</td>\n",
       "      <td>Italy</td>\n",
       "      <td>3</td>\n",
       "      <td>1</td>\n",
       "      <td>International Tournament</td>\n",
       "      <td>Manaus</td>\n",
       "      <td>Brazil</td>\n",
       "      <td>False</td>\n",
       "    </tr>\n",
       "    <tr>\n",
       "      <th>5951</th>\n",
       "      <td>2016-12-18</td>\n",
       "      <td>Russia</td>\n",
       "      <td>Costa Rica</td>\n",
       "      <td>1</td>\n",
       "      <td>0</td>\n",
       "      <td>International Tournament</td>\n",
       "      <td>Manaus</td>\n",
       "      <td>Brazil</td>\n",
       "      <td>True</td>\n",
       "    </tr>\n",
       "    <tr>\n",
       "      <th>5952</th>\n",
       "      <td>2016-12-18</td>\n",
       "      <td>Brazil</td>\n",
       "      <td>Italy</td>\n",
       "      <td>5</td>\n",
       "      <td>3</td>\n",
       "      <td>International Tournament</td>\n",
       "      <td>Manaus</td>\n",
       "      <td>Brazil</td>\n",
       "      <td>False</td>\n",
       "    </tr>\n",
       "  </tbody>\n",
       "</table>\n",
       "</div>"
      ],
      "text/plain": [
       "            date      home_team      away_team  home_score  away_score  \\\n",
       "5811  2016-07-23         Brazil      Australia           3           1   \n",
       "5824  2016-08-03         Sweden   South Africa           1           0   \n",
       "5825  2016-08-03         Brazil       China PR           3           0   \n",
       "5826  2016-08-03         Canada      Australia           2           0   \n",
       "5827  2016-08-03       Zimbabwe        Germany           1           6   \n",
       "5828  2016-08-03  United States    New Zealand           2           0   \n",
       "5829  2016-08-03         France       Colombia           4           0   \n",
       "5835  2016-08-06   South Africa       China PR           0           2   \n",
       "5836  2016-08-06         Brazil         Sweden           5           1   \n",
       "5837  2016-08-06         Canada       Zimbabwe           3           1   \n",
       "5838  2016-08-06        Germany      Australia           2           2   \n",
       "5839  2016-08-06  United States         France           1           0   \n",
       "5840  2016-08-06       Colombia    New Zealand           0           1   \n",
       "5843  2016-08-09         Brazil   South Africa           0           0   \n",
       "5844  2016-08-09       China PR         Sweden           0           0   \n",
       "5845  2016-08-09        Germany         Canada           1           2   \n",
       "5846  2016-08-09      Australia       Zimbabwe           6           1   \n",
       "5847  2016-08-09       Colombia  United States           2           2   \n",
       "5848  2016-08-09    New Zealand         France           0           3   \n",
       "5849  2016-08-12  United States         Sweden           1           1   \n",
       "5850  2016-08-12       China PR        Germany           0           1   \n",
       "5851  2016-08-12         Canada         France           1           0   \n",
       "5852  2016-08-12         Brazil      Australia           0           0   \n",
       "5853  2016-08-16         Brazil         Sweden           0           0   \n",
       "5854  2016-08-16         Canada        Germany           0           2   \n",
       "5855  2016-08-19         Brazil         Canada           1           2   \n",
       "5856  2016-08-19         Sweden        Germany           1           2   \n",
       "5945  2016-12-07          Italy         Russia           3           0   \n",
       "5946  2016-12-07         Brazil     Costa Rica           6           0   \n",
       "5947  2016-12-11          Italy     Costa Rica           3           0   \n",
       "5948  2016-12-11         Brazil         Russia           4           0   \n",
       "5949  2016-12-14     Costa Rica         Russia           1           3   \n",
       "5950  2016-12-14         Brazil          Italy           3           1   \n",
       "5951  2016-12-18         Russia     Costa Rica           1           0   \n",
       "5952  2016-12-18         Brazil          Italy           5           3   \n",
       "\n",
       "                    tournament            city country  neutral  \n",
       "5811                  Friendly       Fortaleza  Brazil    False  \n",
       "5824             Olympic Games  Rio de Janeiro  Brazil     True  \n",
       "5825             Olympic Games  Rio de Janeiro  Brazil    False  \n",
       "5826             Olympic Games       São Paulo  Brazil     True  \n",
       "5827             Olympic Games       São Paulo  Brazil     True  \n",
       "5828             Olympic Games  Belo Horizonte  Brazil     True  \n",
       "5829             Olympic Games  Belo Horizonte  Brazil     True  \n",
       "5835             Olympic Games  Rio de Janeiro  Brazil     True  \n",
       "5836             Olympic Games  Rio de Janeiro  Brazil    False  \n",
       "5837             Olympic Games       São Paulo  Brazil     True  \n",
       "5838             Olympic Games       São Paulo  Brazil     True  \n",
       "5839             Olympic Games  Belo Horizonte  Brazil     True  \n",
       "5840             Olympic Games  Belo Horizonte  Brazil     True  \n",
       "5843             Olympic Games          Manaus  Brazil    False  \n",
       "5844             Olympic Games        Brasília  Brazil     True  \n",
       "5845             Olympic Games        Brasília  Brazil     True  \n",
       "5846             Olympic Games        Salvador  Brazil     True  \n",
       "5847             Olympic Games          Manaus  Brazil     True  \n",
       "5848             Olympic Games        Salvador  Brazil     True  \n",
       "5849             Olympic Games        Brasília  Brazil     True  \n",
       "5850             Olympic Games        Salvador  Brazil     True  \n",
       "5851             Olympic Games       São Paulo  Brazil     True  \n",
       "5852             Olympic Games  Belo Horizonte  Brazil    False  \n",
       "5853             Olympic Games  Rio de Janeiro  Brazil    False  \n",
       "5854             Olympic Games  Belo Horizonte  Brazil     True  \n",
       "5855             Olympic Games       São Paulo  Brazil    False  \n",
       "5856             Olympic Games  Rio de Janeiro  Brazil     True  \n",
       "5945  International Tournament          Manaus  Brazil     True  \n",
       "5946  International Tournament          Manaus  Brazil    False  \n",
       "5947  International Tournament          Manaus  Brazil     True  \n",
       "5948  International Tournament          Manaus  Brazil    False  \n",
       "5949  International Tournament          Manaus  Brazil     True  \n",
       "5950  International Tournament          Manaus  Brazil    False  \n",
       "5951  International Tournament          Manaus  Brazil     True  \n",
       "5952  International Tournament          Manaus  Brazil    False  "
      ]
     },
     "execution_count": 27,
     "metadata": {},
     "output_type": "execute_result"
    }
   ],
   "source": [
    "brasil_2016 = df[(df['country'] == 'Brazil') & (df['date'].str.contains('2016'))]\n",
    "brasil_2016"
   ]
  },
  {
   "cell_type": "code",
   "execution_count": 28,
   "id": "f7ba3ef3",
   "metadata": {},
   "outputs": [
    {
     "data": {
      "text/plain": [
       "Manaus            10\n",
       "Rio de Janeiro     6\n",
       "São Paulo          6\n",
       "Belo Horizonte     6\n",
       "Brasília           3\n",
       "Salvador           3\n",
       "Fortaleza          1\n",
       "Name: city, dtype: int64"
      ]
     },
     "execution_count": 28,
     "metadata": {},
     "output_type": "execute_result"
    }
   ],
   "source": [
    "cidades_2016_brasil = brasil_2016['city'].value_counts()\n",
    "cidades_2016_brasil"
   ]
  },
  {
   "cell_type": "markdown",
   "id": "c9b79c77",
   "metadata": {},
   "source": [
    "# 6. Qual foi o jogo que apresentou o maior número de gols? Apresente o nome dos países, campeonato, ano e número de gols"
   ]
  },
  {
   "cell_type": "code",
   "execution_count": 32,
   "id": "f145cd23",
   "metadata": {},
   "outputs": [
    {
     "data": {
      "text/html": [
       "<div>\n",
       "<style scoped>\n",
       "    .dataframe tbody tr th:only-of-type {\n",
       "        vertical-align: middle;\n",
       "    }\n",
       "\n",
       "    .dataframe tbody tr th {\n",
       "        vertical-align: top;\n",
       "    }\n",
       "\n",
       "    .dataframe thead th {\n",
       "        text-align: right;\n",
       "    }\n",
       "</style>\n",
       "<table border=\"1\" class=\"dataframe\">\n",
       "  <thead>\n",
       "    <tr style=\"text-align: right;\">\n",
       "      <th></th>\n",
       "      <th>date</th>\n",
       "      <th>home_team</th>\n",
       "      <th>away_team</th>\n",
       "      <th>home_score</th>\n",
       "      <th>away_score</th>\n",
       "      <th>tournament</th>\n",
       "      <th>city</th>\n",
       "      <th>country</th>\n",
       "      <th>neutral</th>\n",
       "      <th>total_goals</th>\n",
       "    </tr>\n",
       "  </thead>\n",
       "  <tbody>\n",
       "    <tr>\n",
       "      <th>2588</th>\n",
       "      <td>2006-11-10</td>\n",
       "      <td>Cameroon</td>\n",
       "      <td>South Africa</td>\n",
       "      <td>2</td>\n",
       "      <td>24</td>\n",
       "      <td>African Championship</td>\n",
       "      <td>Delta</td>\n",
       "      <td>Nigeria</td>\n",
       "      <td>True</td>\n",
       "      <td>26</td>\n",
       "    </tr>\n",
       "  </tbody>\n",
       "</table>\n",
       "</div>"
      ],
      "text/plain": [
       "            date home_team     away_team  home_score  away_score  \\\n",
       "2588  2006-11-10  Cameroon  South Africa           2          24   \n",
       "\n",
       "                tournament   city  country  neutral  total_goals  \n",
       "2588  African Championship  Delta  Nigeria     True           26  "
      ]
     },
     "execution_count": 32,
     "metadata": {},
     "output_type": "execute_result"
    }
   ],
   "source": [
    "df['total_goals'] = df['home_score'] + df['away_score']\n",
    "maior_gols_jogo = df[df['total_goals'] == df['total_goals'].max()]\n",
    "maior_gols_jogo"
   ]
  },
  {
   "cell_type": "markdown",
   "id": "6139c0da",
   "metadata": {},
   "source": [
    "# 7. Qual foi a cidade e o país que sediaram o maior número de partidas? Quantas partidas foram realizadas?"
   ]
  },
  {
   "cell_type": "code",
   "execution_count": 33,
   "id": "8a7de7d1",
   "metadata": {},
   "outputs": [
    {
     "data": {
      "text/plain": [
       "'Larnaca'"
      ]
     },
     "execution_count": 33,
     "metadata": {},
     "output_type": "execute_result"
    }
   ],
   "source": [
    "cidade_maior_partidas = df['city'].value_counts().idxmax()\n",
    "cidade_maior_partidas"
   ]
  },
  {
   "cell_type": "code",
   "execution_count": 34,
   "id": "790c2f20",
   "metadata": {},
   "outputs": [
    {
     "data": {
      "text/plain": [
       "'Portugal'"
      ]
     },
     "execution_count": 34,
     "metadata": {},
     "output_type": "execute_result"
    }
   ],
   "source": [
    "pais_maior_partidas = df['country'].value_counts().idxmax()\n",
    "pais_maior_partidas"
   ]
  },
  {
   "cell_type": "code",
   "execution_count": 35,
   "id": "73b2ea92",
   "metadata": {},
   "outputs": [
    {
     "data": {
      "text/plain": [
       "141"
      ]
     },
     "execution_count": 35,
     "metadata": {},
     "output_type": "execute_result"
    }
   ],
   "source": [
    "total_partidas_cidade = df['city'].value_counts().max()\n",
    "total_partidas_cidade"
   ]
  },
  {
   "cell_type": "markdown",
   "id": "bb65dc74",
   "metadata": {},
   "source": [
    "# 8. Qual foi a data do último jogo registrado no dataset? Apresente a data, torneio e cidade onde este jogo foi realizado."
   ]
  },
  {
   "cell_type": "code",
   "execution_count": 36,
   "id": "9b4f8293",
   "metadata": {},
   "outputs": [
    {
     "data": {
      "text/plain": [
       "date              2024-08-10\n",
       "home_team             Brazil\n",
       "away_team      United States\n",
       "home_score                 0\n",
       "away_score                 1\n",
       "tournament     Olympic Games\n",
       "city                   Paris\n",
       "country               France\n",
       "neutral                 True\n",
       "total_goals                1\n",
       "Name: 9681, dtype: object"
      ]
     },
     "execution_count": 36,
     "metadata": {},
     "output_type": "execute_result"
    }
   ],
   "source": [
    "ultimo_jogo = df.sort_values(by='date', ascending=False).iloc[0]\n",
    "ultimo_jogo"
   ]
  },
  {
   "cell_type": "code",
   "execution_count": null,
   "id": "79b607c7",
   "metadata": {},
   "outputs": [],
   "source": []
  }
 ],
 "metadata": {
  "kernelspec": {
   "display_name": "Python 3 (ipykernel)",
   "language": "python",
   "name": "python3"
  },
  "language_info": {
   "codemirror_mode": {
    "name": "ipython",
    "version": 3
   },
   "file_extension": ".py",
   "mimetype": "text/x-python",
   "name": "python",
   "nbconvert_exporter": "python",
   "pygments_lexer": "ipython3",
   "version": "3.9.7"
  }
 },
 "nbformat": 4,
 "nbformat_minor": 5
}
